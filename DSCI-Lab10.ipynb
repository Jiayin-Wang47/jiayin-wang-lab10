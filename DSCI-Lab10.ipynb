{
 "cells": [
  {
   "cell_type": "markdown",
   "metadata": {
    "collapsed": true,
    "pycharm": {
     "is_executing": false,
     "name": "#%% md\n"
    }
   },
   "source": [
    "Lab 10\n",
    "---\n",
    "Hello All,\n",
    "\n",
    "I am Dhrumil Soni, the CP of the course DSCI 510. Welcome to the lab.\n",
    "\n",
    "Guidelines for the Lab:\n",
    "- You will be given the lab assignment in the start of the lab. You're supposed to complete it by the deadline stated on DEN. Should be usually on Friday Midnight.  \n",
    "\n",
    "- You've to complete the assignments individually. If you are having trouble completing the assignment do let me know, I will clear your doubts and guide you but I'll not write code for you and no one else should :) !!!  \n",
    "\n",
    "- You have to fill in the code to this notebook and upload it to your repository. And simply, submit the link to the repo (which has all the lab submissions inside it). I know the link would be same over the submissions, but it's a simple way to map you on DEN and Github. Also, the jupyter notebook file name has to be in the form '(First name)-(Last name)-lab(Lab Number)'. All characters in lowercase. For example, first lab for me would be 'dhrumil-soni-lab1'  \n",
    "\n",
    "- You are encouraged to look up resources online like python docs and stackoverflow. But, you are encouraged to look up the topics and not the questions themselves  \n",
    "\n",
    "- Your last submission will be counted towards your grade on DEN and do not edit the repository after the deadline  "
   ]
  },
  {
   "cell_type": "markdown",
   "metadata": {},
   "source": [
    "This Lab is focused on pandas and the api reference for the same is here: https://pandas.pydata.org/pandas-docs/stable/reference/index.html  \n",
    "\n",
    "I encourage you to read the docs, get yourself familiar with it, So, you can implement the questions below. Use the search bar in the api reference to navigate.\n",
    "\n",
    "Note: In this lab, you are encouraged not to use python loops or conditionals that you use generally. If you do, however, your code will be slow and won't be able to complete the operations required.  \n",
    "\n",
    "Lastly, as a rule of thumb, I suggest you to look up every function you use in the api reference. So, that you know how you can change the parameters to get what you want. "
   ]
  },
  {
   "cell_type": "code",
   "execution_count": null,
   "metadata": {},
   "outputs": [],
   "source": [
    "import numpy as np\n",
    "import pandas as pd\n",
    "from IPython.display import display"
   ]
  },
  {
   "cell_type": "code",
   "execution_count": null,
   "metadata": {},
   "outputs": [],
   "source": [
    "# Before moving forward, let's look at some functions and features of pandas. \n",
    "d = {0:[1, 2], 1:[2, 3]}\n",
    "# As you all already know, this call creates a pandas dataframe from the dictionary passed in the argument. \n",
    "df = pd.DataFrame.from_dict(d)\n",
    "# To display the dataframe, please use the display function. It gives a pretty output compared to print. \n",
    "display(df)\n",
    "# Let's get the first element. This also supports slicing. \n",
    "first_row = df.iloc[0]\n",
    "# Get the max value in column 0. If you want the id, look for idxmax()\n",
    "display(df[0].max())\n",
    "# Indexing based on a condition. After doing the condition, it gives something like index and boolean value of the condition's evaluation. Based on that, it is again accessed by the dataframe and the appropriate result is achieved. \n",
    "display(df[df[1]==2])\n",
    "# To perform a operation on a element/set of elements who match some condition\n",
    "df.loc[df[1]==2, 0] *= 2\n",
    "# This operation selects the row whose column 1 is of value 2 and then multiplies the value in the column 0 by 2\n",
    "display(df)\n"
   ]
  },
  {
   "cell_type": "markdown",
   "metadata": {},
   "source": [
    "[2 points]  \n",
    "\n",
    "---\n",
    "Create a dataframe from the given dictionary and return dataframe. Assume that the values of the dict will be a list. Return the dataframe. "
   ]
  },
  {
   "cell_type": "code",
   "execution_count": null,
   "metadata": {},
   "outputs": [],
   "source": [
    "def get_dataframe(d):\n",
    "    d = pd.DataFrame.from_dict(d)\n",
    "    return d\n",
    "    \n",
    "get_dataframe({'Names':['abc', 'bcd', 'cde'], 'age':[12, 23, 34]})"
   ]
  },
  {
   "cell_type": "markdown",
   "metadata": {},
   "source": [
    "[2 points]  \n",
    "\n",
    "---\n",
    "Get all rows of a dataframe except the first row."
   ]
  },
  {
   "cell_type": "code",
   "execution_count": null,
   "metadata": {},
   "outputs": [],
   "source": [
    "def get_except_first(df):\n",
    "    exc = df[1:]\n",
    "    display(exc)\n",
    "    \n",
    "sample = get_dataframe({'Names':['abc', 'bcd', 'cde'], 'age':[12, 23, 34]})\n",
    "get_except_first(sample)"
   ]
  },
  {
   "cell_type": "markdown",
   "metadata": {},
   "source": [
    "[2 points]  \n",
    "\n",
    "---\n",
    "Get the person with the max age from the dataframe which would be of the format described in the dicts above. Return type: Pandas series"
   ]
  },
  {
   "cell_type": "code",
   "execution_count": null,
   "metadata": {},
   "outputs": [],
   "source": [
    "def get_max_age(df):\n",
    "    mage = sample.iloc[sample['age'].idxmax()]\n",
    "    display(mage)\n",
    "    \n",
    "get_max_age(sample)"
   ]
  },
  {
   "cell_type": "markdown",
   "metadata": {},
   "source": [
    "[4 points]  \n",
    "\n",
    "---\n",
    "Get dataframe with age greater than 20. Assume same dataframe format as above. "
   ]
  },
  {
   "cell_type": "code",
   "execution_count": null,
   "metadata": {},
   "outputs": [],
   "source": [
    "def get_age_greater_than_20(df):\n",
    "    display(df[df['age']>20])\n",
    "\n",
    "get_age_greater_than_20(sample)"
   ]
  },
  {
   "cell_type": "markdown",
   "metadata": {},
   "source": [
    "[5 points]  \n",
    "\n",
    "---\n",
    "Assume same structure as above. Increase the age of a person named 'cde' by 1. Return type: pandas dataframe.(the whole dataframe with one value changed.) "
   ]
  },
  {
   "cell_type": "code",
   "execution_count": null,
   "metadata": {},
   "outputs": [],
   "source": [
    "def increase_by_1(df):\n",
    "    df.loc[df['Names']=='cde', 'age'] += 1\n",
    "    display(df)\n",
    "    \n",
    "sample = get_dataframe({'Names':['abc', 'bcd', 'cde'], 'age':[12, 23, 34]})\n",
    "increase_by_1(sample)"
   ]
  },
  {
   "cell_type": "code",
   "execution_count": null,
   "metadata": {},
   "outputs": [],
   "source": [
    "# Let's look at a few more functions before we complete today's lab. \n",
    "d = {0:[2, 1], 1:[2, 3]}\n",
    "# As you all already know, this call creates a pandas dataframe from the dictionary passed in the argument. \n",
    "df = pd.DataFrame.from_dict(d)\n",
    "display(df)\n",
    "# The following function sorts the rows by the column given in the argument. \n",
    "df.sort_values(by=[0], inplace=True)\n",
    "# Notice here that the \"by\" argument is a list for a reason :)\n",
    "display(df)\n",
    "# BROADCASTING\n",
    "# The broadcasting comes from numpy, simply put it describes the rules of the output that will result when you do operations within the n-dimensional arrays (could be panels, dataframes, series) or scalar values.[Source: stack overflow]\n",
    " \n",
    "# This will be more clear by the following call. \n",
    "df1 = pd.DataFrame.from_dict({0:[1,2], 1:[2,3], 2:[3,4]})\n",
    "df2 = pd.DataFrame.from_dict({0:[1,2], 1:[2,3]})\n",
    "df1 = df1.T\n",
    "display(df1)\n",
    "display(df2)\n",
    "# The following call adds the df2's row 0 to all rows in df1.  \n",
    "display(df1.add(df2.iloc[0]))\n",
    "# Broadcasting in general is very handy and is crucial at times to avoid loops. However, it is more widely used in numpy than pandas"
   ]
  },
  {
   "cell_type": "markdown",
   "metadata": {
    "pycharm": {
     "name": "#%% md\n"
    }
   },
   "source": [
    "[10 points] \n",
    "---\n",
    "Given the csv data of cars(in data.csv file), find the top 10 cars that are most popular. If the popularity is same, then break the tie with by considering the row with higher value in the MSRP column(Cost).  \n",
    "\n",
    "Return value of the function should be pandas.core.frame.DataFrame containing info of 10 cars.  \n",
    "\n",
    "Pandas Functions used(This is simply a suggestion, you can use other functions too. (Refer documentation)):  \n",
    "*read_csv, sort_values, tail*  \n",
    "\n",
    "---\n",
    "Grading Rubric: 1 point for a correct row. 10 rows in total. "
   ]
  },
  {
   "cell_type": "code",
   "execution_count": null,
   "metadata": {},
   "outputs": [],
   "source": [
    "# Your code goes here.\n",
    "def top10(filename):\n",
    "    file = pd.read_csv(filename)\n",
    "    file = file.sort_values(by = ['Popularity', 'MSRP'])\n",
    "    display(file.tail(10))\n",
    "\n",
    "\n",
    "# add filename in argument\n",
    "top10('data.csv')"
   ]
  },
  {
   "cell_type": "code",
   "execution_count": null,
   "metadata": {},
   "outputs": [],
   "source": [
    "# My answer has following top 10 values as the solution\n",
    "# 732\tBMW\t7 Series\t2017\tpremium unleaded (required)\t445.0\t8\tAUTOMATIC\trear wheel drive\t4\tLuxury,High-Performance\tLarge\tSedan\t26\t17\t3916\t94600\n",
    "# 646\tBMW\t6 Series\t2015\tpremium unleaded (required)\t445.0\t8\tAUTOMATIC\trear wheel drive\t2\tLuxury,High-Performance\tMidsize\tConvertible\t25\t17\t3916\t94900\n",
    "# 657\tBMW\t6 Series\t2016\tpremium unleaded (required)\t445.0\t8\tAUTOMATIC\trear wheel drive\t2\tLuxury,High-Performance\tMidsize\tConvertible\t25\t17\t3916\t96200\n",
    "# 668\tBMW\t6 Series\t2017\tpremium unleaded (required)\t445.0\t8\tAUTOMATIC\trear wheel drive\t2\tLuxury,High-Performance\tMidsize\tConvertible\t24\t17\t3916\t96500\n",
    "# 731\tBMW\t7 Series\t2016\tpremium unleaded (required)\t445.0\t8\tAUTOMATIC\tall wheel drive\t4\tLuxury,High-Performance\tLarge\tSedan\t25\t16\t3916\t97400\n",
    "# 733\tBMW\t7 Series\t2017\tpremium unleaded (required)\t445.0\t8\tAUTOMATIC\tall wheel drive\t4\tLuxury,High-Performance\tLarge\tSedan\t25\t16\t3916\t97600\n",
    "# 653\tBMW\t6 Series\t2015\tpremium unleaded (required)\t445.0\t8\tAUTOMATIC\tall wheel drive\t2\tLuxury,High-Performance\tMidsize\tConvertible\t24\t16\t3916\t97900\n",
    "# 656\tBMW\t6 Series\t2016\tpremium unleaded (required)\t445.0\t8\tAUTOMATIC\tall wheel drive\t2\tLuxury,High-Performance\tMidsize\tConvertible\t24\t15\t3916\t99200\n",
    "# 669\tBMW\t6 Series\t2017\tpremium unleaded (required)\t445.0\t8\tAUTOMATIC\tall wheel drive\t2\tLuxury,High-Performance\tMidsize\tConvertible\t24\t15\t3916\t99500\n",
    "# 720\tBMW\t7 Series\t2015\tpremium unleaded (required)\t535.0\t12\tAUTOMATIC\trear wheel drive\t4\tLuxury,High-Performance\tLarge\tSedan\t20\t13\t3916\t141200"
   ]
  },
  {
   "cell_type": "markdown",
   "metadata": {},
   "source": [
    "[5 points] \n",
    "---\n",
    "Consider two dataframes `df1` and `df2`(This dataframe will have only one row of data) where the data is of two dimensional points. Find the euclidean distance of the point in `df2` with all points in `df1`. Return a pandas series with all the distances on it. \n",
    "    \n",
    "---\n",
    "Grading Rubric: Binary"
   ]
  },
  {
   "cell_type": "code",
   "execution_count": null,
   "metadata": {},
   "outputs": [],
   "source": [
    "# Your code goes here\n",
    "import time\n",
    "\n",
    "def broadcast(df1, df2):\n",
    "    df = df1\n",
    "    df = df.sub(df2.iloc[0])\n",
    "    df = df.pow(2)\n",
    "    df['sum'] = df.sum(axis = 1)\n",
    "    df = df.drop(columns = [0,1])\n",
    "    df = df.pow(1/2)\n",
    "    display(df)\n",
    "\n",
    "# add filename in argument\n",
    "list1 = [(1, 2) for i in range(10000)]\n",
    "list2 = [(2, 3)]\n",
    "\n",
    "df1 = pd.DataFrame.from_dict(list1)\n",
    "df2 = pd.DataFrame.from_dict(list2)\n",
    "\n",
    "display(broadcast(df1, df2))\n",
    "# My output is something like this\n",
    "# 0       1.414214\n",
    "# 1       1.414214\n",
    "# 2       1.414214\n",
    "# 3       1.414214\n",
    "# 4       1.414214\n",
    "#           ...   \n",
    "# 9995    1.414214\n",
    "# 9996    1.414214\n",
    "# 9997    1.414214\n",
    "# 9998    1.414214\n",
    "# 9999    1.414214\n",
    "# Length: 10000, dtype: float64"
   ]
  }
 ],
 "metadata": {
  "kernelspec": {
   "display_name": "Python 3",
   "language": "python",
   "name": "python3"
  },
  "language_info": {
   "codemirror_mode": {
    "name": "ipython",
    "version": 3
   },
   "file_extension": ".py",
   "mimetype": "text/x-python",
   "name": "python",
   "nbconvert_exporter": "python",
   "pygments_lexer": "ipython3",
   "version": "3.8.3"
  },
  "pycharm": {
   "stem_cell": {
    "cell_type": "raw",
    "metadata": {
     "collapsed": false
    },
    "source": []
   }
  }
 },
 "nbformat": 4,
 "nbformat_minor": 1
}
